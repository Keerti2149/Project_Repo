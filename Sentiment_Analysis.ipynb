{
  "metadata": {
    "kernelspec": {
      "language": "python",
      "display_name": "Python 3",
      "name": "python3"
    },
    "language_info": {
      "name": "python",
      "version": "3.10.12",
      "mimetype": "text/x-python",
      "codemirror_mode": {
        "name": "ipython",
        "version": 3
      },
      "pygments_lexer": "ipython3",
      "nbconvert_exporter": "python",
      "file_extension": ".py"
    },
    "colab": {
      "provenance": []
    }
  },
  "nbformat_minor": 0,
  "nbformat": 4,
  "cells": [
    {
      "source": [
        "\n",
        "# IMPORTANT: RUN THIS CELL IN ORDER TO IMPORT YOUR KAGGLE DATA SOURCES\n",
        "# TO THE CORRECT LOCATION (/kaggle/input) IN YOUR NOTEBOOK,\n",
        "# THEN FEEL FREE TO DELETE THIS CELL.\n",
        "# NOTE: THIS NOTEBOOK ENVIRONMENT DIFFERS FROM KAGGLE'S PYTHON\n",
        "# ENVIRONMENT SO THERE MAY BE MISSING LIBRARIES USED BY YOUR\n",
        "# NOTEBOOK.\n",
        "\n",
        "import os\n",
        "import sys\n",
        "from tempfile import NamedTemporaryFile\n",
        "from urllib.request import urlopen\n",
        "from urllib.parse import unquote, urlparse\n",
        "from urllib.error import HTTPError\n",
        "from zipfile import ZipFile\n",
        "import tarfile\n",
        "import shutil\n",
        "\n",
        "CHUNK_SIZE = 40960\n",
        "DATA_SOURCE_MAPPING = 'sentiment-prediction-on-movie-reviews:https%3A%2F%2Fstorage.googleapis.com%2Fkaggle-competitions-data%2Fkaggle-v2%2F53569%2F5834979%2Fbundle%2Farchive.zip%3FX-Goog-Algorithm%3DGOOG4-RSA-SHA256%26X-Goog-Credential%3Dgcp-kaggle-com%2540kaggle-161607.iam.gserviceaccount.com%252F20240912%252Fauto%252Fstorage%252Fgoog4_request%26X-Goog-Date%3D20240912T105505Z%26X-Goog-Expires%3D259200%26X-Goog-SignedHeaders%3Dhost%26X-Goog-Signature%3D68047c3cab37bc0dccc59c9c745e4d623a4e5e894abd1d0fc7aed80af0b918aead14187e5ba9dbb09be342fe18dbcf14b88d8e31d126f200da4eb2d78256d9bbd1f386d1deac43fe9b12087e2809feab4319713e82da155662082be4fb8802594be2f548f03cbaa00c8b34d3822d8a4e9c1e99c68f475e37abed0d08715d51aa8e0838dba752fed9630706f274fe9ffe1016279a1a080807dfcd5c9931c7d8c2b954a8a5a527a750357356a99a578f17b6c8471017370d017b2d945bc75d15f09ccf007e8c198ece3a54c1fe696ade4c0c6bfbd34480ecb49615681ccdb1dc21effbf563fdf874cb81e117fabc4fc31e917d720d7d7bcfd6013951e7a351bc5f'\n",
        "\n",
        "KAGGLE_INPUT_PATH='/kaggle/input'\n",
        "KAGGLE_WORKING_PATH='/kaggle/working'\n",
        "KAGGLE_SYMLINK='kaggle'\n",
        "\n",
        "!umount /kaggle/input/ 2> /dev/null\n",
        "shutil.rmtree('/kaggle/input', ignore_errors=True)\n",
        "os.makedirs(KAGGLE_INPUT_PATH, 0o777, exist_ok=True)\n",
        "os.makedirs(KAGGLE_WORKING_PATH, 0o777, exist_ok=True)\n",
        "\n",
        "try:\n",
        "  os.symlink(KAGGLE_INPUT_PATH, os.path.join(\"..\", 'input'), target_is_directory=True)\n",
        "except FileExistsError:\n",
        "  pass\n",
        "try:\n",
        "  os.symlink(KAGGLE_WORKING_PATH, os.path.join(\"..\", 'working'), target_is_directory=True)\n",
        "except FileExistsError:\n",
        "  pass\n",
        "\n",
        "for data_source_mapping in DATA_SOURCE_MAPPING.split(','):\n",
        "    directory, download_url_encoded = data_source_mapping.split(':')\n",
        "    download_url = unquote(download_url_encoded)\n",
        "    filename = urlparse(download_url).path\n",
        "    destination_path = os.path.join(KAGGLE_INPUT_PATH, directory)\n",
        "    try:\n",
        "        with urlopen(download_url) as fileres, NamedTemporaryFile() as tfile:\n",
        "            total_length = fileres.headers['content-length']\n",
        "            print(f'Downloading {directory}, {total_length} bytes compressed')\n",
        "            dl = 0\n",
        "            data = fileres.read(CHUNK_SIZE)\n",
        "            while len(data) > 0:\n",
        "                dl += len(data)\n",
        "                tfile.write(data)\n",
        "                done = int(50 * dl / int(total_length))\n",
        "                sys.stdout.write(f\"\\r[{'=' * done}{' ' * (50-done)}] {dl} bytes downloaded\")\n",
        "                sys.stdout.flush()\n",
        "                data = fileres.read(CHUNK_SIZE)\n",
        "            if filename.endswith('.zip'):\n",
        "              with ZipFile(tfile) as zfile:\n",
        "                zfile.extractall(destination_path)\n",
        "            else:\n",
        "              with tarfile.open(tfile.name) as tarfile:\n",
        "                tarfile.extractall(destination_path)\n",
        "            print(f'\\nDownloaded and uncompressed: {directory}')\n",
        "    except HTTPError as e:\n",
        "        print(f'Failed to load (likely expired) {download_url} to path {destination_path}')\n",
        "        continue\n",
        "    except OSError as e:\n",
        "        print(f'Failed to load {download_url} to path {destination_path}')\n",
        "        continue\n",
        "\n",
        "print('Data source import complete.')\n"
      ],
      "metadata": {
        "id": "7aIZKNJb4LTe"
      },
      "cell_type": "code",
      "outputs": [],
      "execution_count": null
    },
    {
      "cell_type": "code",
      "source": [
        "\n",
        "# This Python 3 environment comes with many helpful analytics libraries installed\n",
        "# It is defined by the kaggle/python Docker image: https://github.com/kaggle/docker-python\n",
        "# For example, here's several helpful packages to load\n",
        "\n",
        "import numpy as np # linear algebra\n",
        "import pandas as pd # data processing, CSV file I/O (e.g. pd.read_csv)\n",
        "import seaborn as sns\n",
        "import matplotlib.pyplot as plt\n",
        "from sklearn.base import BaseEstimator, TransformerMixin\n",
        "\n",
        "# Input data files are available in the read-only \"../input/\" directory\n",
        "# For example, running this (by clicking run or pressing Shift+Enter) will list all files under the input directory\n",
        "\n",
        "import os\n",
        "for dirname, _, filenames in os.walk('/kaggle/input'):\n",
        "    for filename in filenames:\n",
        "        print(os.path.join(dirname, filename))\n",
        "\n",
        "# You can write up to 20GB to the current directory (/kaggle/working/) that gets preserved as output when you create a version using \"Save & Run All\"\n",
        "# You can also write temporary files to /kaggle/temp/, but they won't be saved outside of the current session"
      ],
      "metadata": {
        "_uuid": "8f2839f25d086af736a60e9eeb907d3b93b6e0e5",
        "_cell_guid": "b1076dfc-b9ad-4769-8c92-a6c4dae69d19",
        "execution": {
          "iopub.status.busy": "2023-08-16T08:09:57.445023Z",
          "iopub.execute_input": "2023-08-16T08:09:57.445378Z",
          "iopub.status.idle": "2023-08-16T08:09:58.037475Z",
          "shell.execute_reply.started": "2023-08-16T08:09:57.445355Z",
          "shell.execute_reply": "2023-08-16T08:09:58.036155Z"
        },
        "trusted": true,
        "id": "lsj4cYEr4LTm",
        "outputId": "187d088b-366b-4f45-9037-844261954a1e"
      },
      "execution_count": null,
      "outputs": [
        {
          "name": "stderr",
          "text": "/opt/conda/lib/python3.10/site-packages/scipy/__init__.py:146: UserWarning: A NumPy version >=1.16.5 and <1.23.0 is required for this version of SciPy (detected version 1.23.5\n  warnings.warn(f\"A NumPy version >={np_minversion} and <{np_maxversion}\"\n",
          "output_type": "stream"
        },
        {
          "name": "stdout",
          "text": "/kaggle/input/sentiment-prediction-on-movie-reviews/movies.csv\n/kaggle/input/sentiment-prediction-on-movie-reviews/sample.csv\n/kaggle/input/sentiment-prediction-on-movie-reviews/train.csv\n/kaggle/input/sentiment-prediction-on-movie-reviews/test.csv\n",
          "output_type": "stream"
        }
      ]
    },
    {
      "cell_type": "markdown",
      "source": [
        "\n",
        "**Importing  data into train,movies and test**"
      ],
      "metadata": {
        "id": "_3Tg_cIX4LTo"
      }
    },
    {
      "cell_type": "code",
      "source": [
        "train=pd.read_csv('/kaggle/input/sentiment-prediction-on-movie-reviews/train.csv')\n",
        "movies=pd.read_csv('/kaggle/input/sentiment-prediction-on-movie-reviews/movies.csv')\n",
        "test=pd.read_csv('/kaggle/input/sentiment-prediction-on-movie-reviews/test.csv')"
      ],
      "metadata": {
        "execution": {
          "iopub.status.busy": "2023-08-16T08:09:58.039432Z",
          "iopub.execute_input": "2023-08-16T08:09:58.039805Z",
          "iopub.status.idle": "2023-08-16T08:09:59.766062Z",
          "shell.execute_reply.started": "2023-08-16T08:09:58.039774Z",
          "shell.execute_reply": "2023-08-16T08:09:59.765044Z"
        },
        "trusted": true,
        "id": "hD9Qw7Q14LTr"
      },
      "execution_count": null,
      "outputs": []
    },
    {
      "cell_type": "code",
      "source": [
        "#Dataframe\n",
        "file=pd.DataFrame({\n",
        "    \"Name\":[\"Train\",\"Movies\",\"Test\"],\n",
        "    \"Shape\": [train.shape, movies.shape,test.shape],\n",
        "    \"Type\": [type(train),type( movies),type(test)]})\n",
        "file"
      ],
      "metadata": {
        "execution": {
          "iopub.status.busy": "2023-08-16T08:09:59.76719Z",
          "iopub.execute_input": "2023-08-16T08:09:59.767443Z",
          "iopub.status.idle": "2023-08-16T08:09:59.791807Z",
          "shell.execute_reply.started": "2023-08-16T08:09:59.767422Z",
          "shell.execute_reply": "2023-08-16T08:09:59.790295Z"
        },
        "trusted": true,
        "id": "FIv5yRvr4LTs",
        "outputId": "30132243-982d-41c6-8180-3d5c1a13d485"
      },
      "execution_count": null,
      "outputs": [
        {
          "execution_count": 4,
          "output_type": "execute_result",
          "data": {
            "text/plain": "     Name         Shape                                   Type\n0   Train   (162758, 5)  <class 'pandas.core.frame.DataFrame'>\n1  Movies  (143258, 14)  <class 'pandas.core.frame.DataFrame'>\n2    Test    (55315, 4)  <class 'pandas.core.frame.DataFrame'>",
            "text/html": "<div>\n<style scoped>\n    .dataframe tbody tr th:only-of-type {\n        vertical-align: middle;\n    }\n\n    .dataframe tbody tr th {\n        vertical-align: top;\n    }\n\n    .dataframe thead th {\n        text-align: right;\n    }\n</style>\n<table border=\"1\" class=\"dataframe\">\n  <thead>\n    <tr style=\"text-align: right;\">\n      <th></th>\n      <th>Name</th>\n      <th>Shape</th>\n      <th>Type</th>\n    </tr>\n  </thead>\n  <tbody>\n    <tr>\n      <th>0</th>\n      <td>Train</td>\n      <td>(162758, 5)</td>\n      <td>&lt;class 'pandas.core.frame.DataFrame'&gt;</td>\n    </tr>\n    <tr>\n      <th>1</th>\n      <td>Movies</td>\n      <td>(143258, 14)</td>\n      <td>&lt;class 'pandas.core.frame.DataFrame'&gt;</td>\n    </tr>\n    <tr>\n      <th>2</th>\n      <td>Test</td>\n      <td>(55315, 4)</td>\n      <td>&lt;class 'pandas.core.frame.DataFrame'&gt;</td>\n    </tr>\n  </tbody>\n</table>\n</div>"
          },
          "metadata": {}
        }
      ]
    },
    {
      "cell_type": "code",
      "source": [
        "movies=movies.drop_duplicates(subset=['movieid'], keep='first')\n",
        "print(movies.shape)\n",
        "df= pd.merge(train, movies,on='movieid',how='left')\n",
        "df_test=pd.merge(test, movies,on='movieid',how='left')\n",
        "df.info()"
      ],
      "metadata": {
        "execution": {
          "iopub.status.busy": "2023-08-16T08:09:59.793603Z",
          "iopub.execute_input": "2023-08-16T08:09:59.793919Z",
          "iopub.status.idle": "2023-08-16T08:10:00.802485Z",
          "shell.execute_reply.started": "2023-08-16T08:09:59.793896Z",
          "shell.execute_reply": "2023-08-16T08:10:00.801454Z"
        },
        "trusted": true,
        "id": "6e58Q6Dl4LTt",
        "outputId": "6812dbce-6630-4f80-f087-550b0e69b266"
      },
      "execution_count": null,
      "outputs": [
        {
          "name": "stdout",
          "text": "(126404, 14)\n<class 'pandas.core.frame.DataFrame'>\nInt64Index: 162758 entries, 0 to 162757\nData columns (total 18 columns):\n #   Column                Non-Null Count   Dtype  \n---  ------                --------------   -----  \n 0   movieid               162758 non-null  object \n 1   reviewerName          162758 non-null  object \n 2   isFrequentReviewer    162758 non-null  bool   \n 3   reviewText            156311 non-null  object \n 4   sentiment             162758 non-null  object \n 5   title                 162758 non-null  object \n 6   audienceScore         149510 non-null  float64\n 7   rating                99034 non-null   object \n 8   ratingContents        99034 non-null   object \n 9   releaseDateTheaters   126924 non-null  object \n 10  releaseDateStreaming  146573 non-null  object \n 11  runtimeMinutes        159382 non-null  float64\n 12  genre                 160320 non-null  object \n 13  originalLanguage      159468 non-null  object \n 14  director              162758 non-null  object \n 15  boxOffice             109982 non-null  object \n 16  distributor           122095 non-null  object \n 17  soundType             77391 non-null   object \ndtypes: bool(1), float64(2), object(15)\nmemory usage: 22.5+ MB\n",
          "output_type": "stream"
        }
      ]
    },
    {
      "cell_type": "code",
      "source": [
        "for i in df.columns:\n",
        "    mov_id=i\n",
        "    uniq=df[i].unique().size\n",
        "    pos=df[i].where(df['sentiment']=='POSITIVE').unique().size\n",
        "    neg=df[i].where(df['sentiment']=='NEGATIVE').unique().size\n",
        "    print(i,':',uniq,':',pos,':',neg)"
      ],
      "metadata": {
        "execution": {
          "iopub.status.busy": "2023-08-16T08:10:00.803533Z",
          "iopub.execute_input": "2023-08-16T08:10:00.804747Z",
          "iopub.status.idle": "2023-08-16T08:10:01.847778Z",
          "shell.execute_reply.started": "2023-08-16T08:10:00.8047Z",
          "shell.execute_reply": "2023-08-16T08:10:01.846176Z"
        },
        "trusted": true,
        "id": "450latx94LTt",
        "outputId": "9406a3cb-fdc3-4145-c07b-312d9e7f24a5"
      },
      "execution_count": null,
      "outputs": [
        {
          "name": "stdout",
          "text": "movieid : 16812 : 15045 : 11543\nreviewerName : 4482 : 4296 : 3477\nisFrequentReviewer : 2 : 3 : 3\nreviewText : 155072 : 103899 : 51183\nsentiment : 2 : 2 : 2\ntitle : 16812 : 15045 : 11543\naudienceScore : 101 : 99 : 100\nrating : 8 : 8 : 8\nratingContents : 4478 : 4140 : 4061\nreleaseDateTheaters : 4227 : 4009 : 3166\nreleaseDateStreaming : 2900 : 2802 : 2462\nruntimeMinutes : 217 : 216 : 196\ngenre : 1163 : 1120 : 966\noriginalLanguage : 92 : 92 : 76\ndirector : 9476 : 8537 : 6669\nboxOffice : 3527 : 3413 : 3007\ndistributor : 1611 : 1498 : 1132\nsoundType : 438 : 429 : 398\n",
          "output_type": "stream"
        }
      ]
    },
    {
      "cell_type": "markdown",
      "source": [
        "Observations Unique values belonging sentiments across different columns:\n",
        "    columns[reviewerName,reviewText ,ratingContents,genre,director,boxOffice,distributor]\n",
        "    have more information than other columns."
      ],
      "metadata": {
        "id": "1K93kqLG4LTu"
      }
    },
    {
      "cell_type": "code",
      "source": [
        "temp = df.groupby('sentiment').count()\n",
        "temp.style.background_gradient(cmap='Blues')"
      ],
      "metadata": {
        "execution": {
          "iopub.status.busy": "2023-08-16T08:10:34.188238Z",
          "iopub.execute_input": "2023-08-16T08:10:34.18858Z",
          "iopub.status.idle": "2023-08-16T08:10:34.667032Z",
          "shell.execute_reply.started": "2023-08-16T08:10:34.188555Z",
          "shell.execute_reply": "2023-08-16T08:10:34.665585Z"
        },
        "trusted": true,
        "id": "Oh8Klaue4LTv",
        "outputId": "b736a519-6dc8-406b-b56b-1dff14060541"
      },
      "execution_count": null,
      "outputs": [
        {
          "execution_count": 8,
          "output_type": "execute_result",
          "data": {
            "text/plain": "<pandas.io.formats.style.Styler at 0x788e59fd8af0>",
            "text/html": "<style type=\"text/css\">\n#T_98f21_row0_col0, #T_98f21_row0_col1, #T_98f21_row0_col2, #T_98f21_row0_col3, #T_98f21_row0_col4, #T_98f21_row0_col5, #T_98f21_row0_col6, #T_98f21_row0_col7, #T_98f21_row0_col8, #T_98f21_row0_col9, #T_98f21_row0_col10, #T_98f21_row0_col11, #T_98f21_row0_col12, #T_98f21_row0_col13, #T_98f21_row0_col14, #T_98f21_row0_col15, #T_98f21_row0_col16 {\n  background-color: #f7fbff;\n  color: #000000;\n}\n#T_98f21_row1_col0, #T_98f21_row1_col1, #T_98f21_row1_col2, #T_98f21_row1_col3, #T_98f21_row1_col4, #T_98f21_row1_col5, #T_98f21_row1_col6, #T_98f21_row1_col7, #T_98f21_row1_col8, #T_98f21_row1_col9, #T_98f21_row1_col10, #T_98f21_row1_col11, #T_98f21_row1_col12, #T_98f21_row1_col13, #T_98f21_row1_col14, #T_98f21_row1_col15, #T_98f21_row1_col16 {\n  background-color: #08306b;\n  color: #f1f1f1;\n}\n</style>\n<table id=\"T_98f21\">\n  <thead>\n    <tr>\n      <th class=\"blank level0\" >&nbsp;</th>\n      <th id=\"T_98f21_level0_col0\" class=\"col_heading level0 col0\" >movieid</th>\n      <th id=\"T_98f21_level0_col1\" class=\"col_heading level0 col1\" >reviewerName</th>\n      <th id=\"T_98f21_level0_col2\" class=\"col_heading level0 col2\" >isFrequentReviewer</th>\n      <th id=\"T_98f21_level0_col3\" class=\"col_heading level0 col3\" >reviewText</th>\n      <th id=\"T_98f21_level0_col4\" class=\"col_heading level0 col4\" >title</th>\n      <th id=\"T_98f21_level0_col5\" class=\"col_heading level0 col5\" >audienceScore</th>\n      <th id=\"T_98f21_level0_col6\" class=\"col_heading level0 col6\" >rating</th>\n      <th id=\"T_98f21_level0_col7\" class=\"col_heading level0 col7\" >ratingContents</th>\n      <th id=\"T_98f21_level0_col8\" class=\"col_heading level0 col8\" >releaseDateTheaters</th>\n      <th id=\"T_98f21_level0_col9\" class=\"col_heading level0 col9\" >releaseDateStreaming</th>\n      <th id=\"T_98f21_level0_col10\" class=\"col_heading level0 col10\" >runtimeMinutes</th>\n      <th id=\"T_98f21_level0_col11\" class=\"col_heading level0 col11\" >genre</th>\n      <th id=\"T_98f21_level0_col12\" class=\"col_heading level0 col12\" >originalLanguage</th>\n      <th id=\"T_98f21_level0_col13\" class=\"col_heading level0 col13\" >director</th>\n      <th id=\"T_98f21_level0_col14\" class=\"col_heading level0 col14\" >boxOffice</th>\n      <th id=\"T_98f21_level0_col15\" class=\"col_heading level0 col15\" >distributor</th>\n      <th id=\"T_98f21_level0_col16\" class=\"col_heading level0 col16\" >soundType</th>\n    </tr>\n    <tr>\n      <th class=\"index_name level0\" >sentiment</th>\n      <th class=\"blank col0\" >&nbsp;</th>\n      <th class=\"blank col1\" >&nbsp;</th>\n      <th class=\"blank col2\" >&nbsp;</th>\n      <th class=\"blank col3\" >&nbsp;</th>\n      <th class=\"blank col4\" >&nbsp;</th>\n      <th class=\"blank col5\" >&nbsp;</th>\n      <th class=\"blank col6\" >&nbsp;</th>\n      <th class=\"blank col7\" >&nbsp;</th>\n      <th class=\"blank col8\" >&nbsp;</th>\n      <th class=\"blank col9\" >&nbsp;</th>\n      <th class=\"blank col10\" >&nbsp;</th>\n      <th class=\"blank col11\" >&nbsp;</th>\n      <th class=\"blank col12\" >&nbsp;</th>\n      <th class=\"blank col13\" >&nbsp;</th>\n      <th class=\"blank col14\" >&nbsp;</th>\n      <th class=\"blank col15\" >&nbsp;</th>\n      <th class=\"blank col16\" >&nbsp;</th>\n    </tr>\n  </thead>\n  <tbody>\n    <tr>\n      <th id=\"T_98f21_level0_row0\" class=\"row_heading level0 row0\" >NEGATIVE</th>\n      <td id=\"T_98f21_row0_col0\" class=\"data row0 col0\" >53997</td>\n      <td id=\"T_98f21_row0_col1\" class=\"data row0 col1\" >53997</td>\n      <td id=\"T_98f21_row0_col2\" class=\"data row0 col2\" >53997</td>\n      <td id=\"T_98f21_row0_col3\" class=\"data row0 col3\" >51592</td>\n      <td id=\"T_98f21_row0_col4\" class=\"data row0 col4\" >53997</td>\n      <td id=\"T_98f21_row0_col5\" class=\"data row0 col5\" >49656</td>\n      <td id=\"T_98f21_row0_col6\" class=\"data row0 col6\" >35841</td>\n      <td id=\"T_98f21_row0_col7\" class=\"data row0 col7\" >35841</td>\n      <td id=\"T_98f21_row0_col8\" class=\"data row0 col8\" >42417</td>\n      <td id=\"T_98f21_row0_col9\" class=\"data row0 col9\" >49072</td>\n      <td id=\"T_98f21_row0_col10\" class=\"data row0 col10\" >52891</td>\n      <td id=\"T_98f21_row0_col11\" class=\"data row0 col11\" >53237</td>\n      <td id=\"T_98f21_row0_col12\" class=\"data row0 col12\" >53012</td>\n      <td id=\"T_98f21_row0_col13\" class=\"data row0 col13\" >53997</td>\n      <td id=\"T_98f21_row0_col14\" class=\"data row0 col14\" >38048</td>\n      <td id=\"T_98f21_row0_col15\" class=\"data row0 col15\" >40783</td>\n      <td id=\"T_98f21_row0_col16\" class=\"data row0 col16\" >28351</td>\n    </tr>\n    <tr>\n      <th id=\"T_98f21_level0_row1\" class=\"row_heading level0 row1\" >POSITIVE</th>\n      <td id=\"T_98f21_row1_col0\" class=\"data row1 col0\" >108761</td>\n      <td id=\"T_98f21_row1_col1\" class=\"data row1 col1\" >108761</td>\n      <td id=\"T_98f21_row1_col2\" class=\"data row1 col2\" >108761</td>\n      <td id=\"T_98f21_row1_col3\" class=\"data row1 col3\" >104719</td>\n      <td id=\"T_98f21_row1_col4\" class=\"data row1 col4\" >108761</td>\n      <td id=\"T_98f21_row1_col5\" class=\"data row1 col5\" >99854</td>\n      <td id=\"T_98f21_row1_col6\" class=\"data row1 col6\" >63193</td>\n      <td id=\"T_98f21_row1_col7\" class=\"data row1 col7\" >63193</td>\n      <td id=\"T_98f21_row1_col8\" class=\"data row1 col8\" >84507</td>\n      <td id=\"T_98f21_row1_col9\" class=\"data row1 col9\" >97501</td>\n      <td id=\"T_98f21_row1_col10\" class=\"data row1 col10\" >106491</td>\n      <td id=\"T_98f21_row1_col11\" class=\"data row1 col11\" >107083</td>\n      <td id=\"T_98f21_row1_col12\" class=\"data row1 col12\" >106456</td>\n      <td id=\"T_98f21_row1_col13\" class=\"data row1 col13\" >108761</td>\n      <td id=\"T_98f21_row1_col14\" class=\"data row1 col14\" >71934</td>\n      <td id=\"T_98f21_row1_col15\" class=\"data row1 col15\" >81312</td>\n      <td id=\"T_98f21_row1_col16\" class=\"data row1 col16\" >49040</td>\n    </tr>\n  </tbody>\n</table>\n"
          },
          "metadata": {}
        }
      ]
    },
    {
      "cell_type": "code",
      "source": [
        "# plot the dataframe\n",
        "val=[]\n",
        "val=np.transpose(temp)\n",
        "val.plot(y=[\"POSITIVE\", \"NEGATIVE\"], kind=\"bar\", figsize=(6, 5),\n",
        "        title='Distribution of data across different attributes')"
      ],
      "metadata": {
        "execution": {
          "iopub.status.busy": "2023-08-16T08:20:22.775105Z",
          "iopub.execute_input": "2023-08-16T08:20:22.775504Z",
          "iopub.status.idle": "2023-08-16T08:20:23.386023Z",
          "shell.execute_reply.started": "2023-08-16T08:20:22.775479Z",
          "shell.execute_reply": "2023-08-16T08:20:23.384501Z"
        },
        "trusted": true,
        "id": "sHMCC0Bg4LTw",
        "outputId": "7efe0b63-bf2b-4dfc-fc04-fd5750cf4b1b"
      },
      "execution_count": null,
      "outputs": [
        {
          "execution_count": 12,
          "output_type": "execute_result",
          "data": {
            "text/plain": "<Axes: title={'center': 'Distribution of data across different attributes'}>"
          },
          "metadata": {}
        },
        {
          "output_type": "display_data",
          "data": {
            "text/plain": "<Figure size 600x500 with 1 Axes>",
            "image/png": "[encoded data removed]"
          },
          "metadata": {}
        }
      ]
    },
    {
      "cell_type": "code",
      "source": [
        "words=pd.DataFrame(df, columns = ['sentiment'])\n",
        "words['Num_words'] = df['reviewText'].apply(lambda x:len(str(x).split()))\n",
        "t = words.groupby('sentiment').sum()\n",
        "t"
      ],
      "metadata": {
        "execution": {
          "iopub.status.busy": "2023-08-16T08:20:45.191314Z",
          "iopub.execute_input": "2023-08-16T08:20:45.191642Z",
          "iopub.status.idle": "2023-08-16T08:20:45.470918Z",
          "shell.execute_reply.started": "2023-08-16T08:20:45.191619Z",
          "shell.execute_reply": "2023-08-16T08:20:45.47017Z"
        },
        "trusted": true,
        "id": "fftUcpCq4LTx",
        "outputId": "b741f926-3141-435b-eb03-cee044488887"
      },
      "execution_count": null,
      "outputs": [
        {
          "execution_count": 13,
          "output_type": "execute_result",
          "data": {
            "text/plain": "           Num_words\nsentiment           \nNEGATIVE     1105332\nPOSITIVE     2314817",
            "text/html": "<div>\n<style scoped>\n    .dataframe tbody tr th:only-of-type {\n        vertical-align: middle;\n    }\n\n    .dataframe tbody tr th {\n        vertical-align: top;\n    }\n\n    .dataframe thead th {\n        text-align: right;\n    }\n</style>\n<table border=\"1\" class=\"dataframe\">\n  <thead>\n    <tr style=\"text-align: right;\">\n      <th></th>\n      <th>Num_words</th>\n    </tr>\n    <tr>\n      <th>sentiment</th>\n      <th></th>\n    </tr>\n  </thead>\n  <tbody>\n    <tr>\n      <th>NEGATIVE</th>\n      <td>1105332</td>\n    </tr>\n    <tr>\n      <th>POSITIVE</th>\n      <td>2314817</td>\n    </tr>\n  </tbody>\n</table>\n</div>"
          },
          "metadata": {}
        }
      ]
    },
    {
      "cell_type": "code",
      "source": [
        "words.describe()"
      ],
      "metadata": {
        "execution": {
          "iopub.status.busy": "2023-08-15T16:19:41.992714Z",
          "iopub.execute_input": "2023-08-15T16:19:41.993141Z",
          "iopub.status.idle": "2023-08-15T16:19:42.019239Z",
          "shell.execute_reply.started": "2023-08-15T16:19:41.993109Z",
          "shell.execute_reply": "2023-08-15T16:19:42.017707Z"
        },
        "trusted": true,
        "id": "P5kULysa4LTx",
        "outputId": "ba14a7d7-ae43-48f2-893b-375e76b97ee3"
      },
      "execution_count": null,
      "outputs": [
        {
          "execution_count": 45,
          "output_type": "execute_result",
          "data": {
            "text/plain": "           Num_words\ncount  162758.000000\nmean       21.013707\nstd        10.216532\nmin         1.000000\n25%        14.000000\n50%        21.000000\n75%        28.000000\nmax        54.000000",
            "text/html": "<div>\n<style scoped>\n    .dataframe tbody tr th:only-of-type {\n        vertical-align: middle;\n    }\n\n    .dataframe tbody tr th {\n        vertical-align: top;\n    }\n\n    .dataframe thead th {\n        text-align: right;\n    }\n</style>\n<table border=\"1\" class=\"dataframe\">\n  <thead>\n    <tr style=\"text-align: right;\">\n      <th></th>\n      <th>Num_words</th>\n    </tr>\n  </thead>\n  <tbody>\n    <tr>\n      <th>count</th>\n      <td>162758.000000</td>\n    </tr>\n    <tr>\n      <th>mean</th>\n      <td>21.013707</td>\n    </tr>\n    <tr>\n      <th>std</th>\n      <td>10.216532</td>\n    </tr>\n    <tr>\n      <th>min</th>\n      <td>1.000000</td>\n    </tr>\n    <tr>\n      <th>25%</th>\n      <td>14.000000</td>\n    </tr>\n    <tr>\n      <th>50%</th>\n      <td>21.000000</td>\n    </tr>\n    <tr>\n      <th>75%</th>\n      <td>28.000000</td>\n    </tr>\n    <tr>\n      <th>max</th>\n      <td>54.000000</td>\n    </tr>\n  </tbody>\n</table>\n</div>"
          },
          "metadata": {}
        }
      ]
    },
    {
      "cell_type": "code",
      "source": [
        "X= df.drop([ 'movieid','releaseDateTheaters',\n",
        "            'releaseDateStreaming', 'runtimeMinutes','originalLanguage',\n",
        "       'soundType','title', 'sentiment','audienceScore','boxOffice','rating','ratingContents'], axis=1)"
      ],
      "metadata": {
        "execution": {
          "iopub.status.busy": "2023-08-15T16:19:42.021383Z",
          "iopub.execute_input": "2023-08-15T16:19:42.022327Z",
          "iopub.status.idle": "2023-08-15T16:19:42.046128Z",
          "shell.execute_reply.started": "2023-08-15T16:19:42.022288Z",
          "shell.execute_reply": "2023-08-15T16:19:42.044619Z"
        },
        "trusted": true,
        "id": "WyFJOPhF4LTy"
      },
      "execution_count": null,
      "outputs": []
    },
    {
      "cell_type": "code",
      "source": [
        "class Pre_Transformer(BaseEstimator, TransformerMixin):\n",
        "    def fit(self, Xp, y=None):\n",
        "        return self\n",
        "\n",
        "    def transform(self,Xp):\n",
        "        Xp['reviewText']= Xp[Xp.columns[:]].apply(lambda x: ','.join(x.astype(str)),axis=1)\n",
        "        Xp=Xp.drop([ 'genre','director','reviewerName','isFrequentReviewer','distributor'], axis=1)\n",
        "        for i in Xp.columns:\n",
        "            if((i!='audienceScore')):\n",
        "                Xp[i]=Xp[i].astype (str).str.lower()\n",
        "        import re\n",
        "        Xp.replace('https?:\\W\\W\\S+',\"\",regex=True,inplace=True)\n",
        "        Xp.replace('[a-zA-Z]+\\.(com|com:)',\"\",regex=True,inplace=True)\n",
        "        Xp.replace('[^a-zA-Z]',\" \",regex=True, inplace=True)\n",
        "        return Xp"
      ],
      "metadata": {
        "execution": {
          "iopub.status.busy": "2023-08-15T16:19:42.049992Z",
          "iopub.execute_input": "2023-08-15T16:19:42.050441Z",
          "iopub.status.idle": "2023-08-15T16:19:42.061353Z",
          "shell.execute_reply.started": "2023-08-15T16:19:42.050387Z",
          "shell.execute_reply": "2023-08-15T16:19:42.059622Z"
        },
        "trusted": true,
        "id": "axECz4G24LTz"
      },
      "execution_count": null,
      "outputs": []
    },
    {
      "cell_type": "code",
      "source": [
        "y=pd.DataFrame(df, columns = ['sentiment'])\n",
        "#y=y.values.reshape(-1)\n",
        "y.loc[y[\"sentiment\"] == \"POSITIVE\", \"sentiment\"] = 1\n",
        "y.loc[y[\"sentiment\"] == \"NEGATIVE\", \"sentiment\"] = 0\n",
        "y=y.astype('int')\n",
        "y=y.values.reshape(-1)"
      ],
      "metadata": {
        "execution": {
          "iopub.status.busy": "2023-08-15T16:19:42.075064Z",
          "iopub.execute_input": "2023-08-15T16:19:42.075394Z",
          "iopub.status.idle": "2023-08-15T16:19:42.17219Z",
          "shell.execute_reply.started": "2023-08-15T16:19:42.075366Z",
          "shell.execute_reply": "2023-08-15T16:19:42.170856Z"
        },
        "trusted": true,
        "id": "LajrJ-AA4LTz"
      },
      "execution_count": null,
      "outputs": []
    },
    {
      "cell_type": "code",
      "source": [
        "from sklearn.feature_extraction.text import TfidfVectorizer,CountVectorizer\n",
        "from sklearn.impute import SimpleImputer\n",
        "from sklearn.pipeline import make_pipeline,Pipeline\n",
        "from imblearn.pipeline import Pipeline\n",
        "from sklearn.model_selection import cross_validate,RandomizedSearchCV,GridSearchCV,cross_val_predict\n",
        "\n",
        "from scipy.stats import uniform\n",
        "from sklearn.linear_model import LogisticRegression,LogisticRegressionCV\n",
        "from sklearn.metrics import accuracy_score,ConfusionMatrixDisplay,confusion_matrix\n",
        "from sklearn.metrics import precision_score,recall_score,precision_recall_curve,f1_score\n",
        "from sklearn.model_selection import train_test_split\n",
        "from sklearn.model_selection import cross_validate,GridSearchCV,RandomizedSearchCV\n",
        "from sklearn.naive_bayes import GaussianNB,MultinomialNB\n",
        "\n",
        "from imblearn.under_sampling import RandomUnderSampler\n",
        "from imblearn.over_sampling import SMOTE,RandomOverSampler\n",
        "from sklearn.decomposition import TruncatedSVD\n",
        "\n"
      ],
      "metadata": {
        "execution": {
          "iopub.status.busy": "2023-08-15T16:19:48.622859Z",
          "iopub.execute_input": "2023-08-15T16:19:48.623327Z",
          "iopub.status.idle": "2023-08-15T16:19:48.633266Z",
          "shell.execute_reply.started": "2023-08-15T16:19:48.623295Z",
          "shell.execute_reply": "2023-08-15T16:19:48.63168Z"
        },
        "trusted": true,
        "id": "ea3p1zVT4LT0"
      },
      "execution_count": null,
      "outputs": []
    },
    {
      "cell_type": "code",
      "source": [
        "pipe = Pipeline([('pp', Pre_Transformer()),\n",
        "                ('imp',SimpleImputer(missing_values=np.nan, strategy='most_frequent'))])\n",
        "x=pd.DataFrame(pipe.fit_transform(X),columns=[\"review\"])"
      ],
      "metadata": {
        "execution": {
          "iopub.status.busy": "2023-08-15T16:19:57.343299Z",
          "iopub.execute_input": "2023-08-15T16:19:57.343791Z",
          "iopub.status.idle": "2023-08-15T16:19:57.349554Z",
          "shell.execute_reply.started": "2023-08-15T16:19:57.343745Z",
          "shell.execute_reply": "2023-08-15T16:19:57.34863Z"
        },
        "trusted": true,
        "id": "bTTZMDg34LT0"
      },
      "execution_count": null,
      "outputs": []
    },
    {
      "cell_type": "code",
      "source": [
        "x_train_tf,x_test_tf,y_train,y_test=train_test_split( x,y,test_size=0.1, random_state=42)"
      ],
      "metadata": {
        "execution": {
          "iopub.status.busy": "2023-08-15T16:23:25.083408Z",
          "iopub.execute_input": "2023-08-15T16:23:25.084947Z",
          "iopub.status.idle": "2023-08-15T16:23:25.114358Z",
          "shell.execute_reply.started": "2023-08-15T16:23:25.084907Z",
          "shell.execute_reply": "2023-08-15T16:23:25.113132Z"
        },
        "trusted": true,
        "id": "Hn9L0MV54LT1"
      },
      "execution_count": null,
      "outputs": []
    },
    {
      "cell_type": "code",
      "source": [
        "tfidf=TfidfVectorizer(analyzer='word',ngram_range=(1,3),lowercase=False)\n",
        "x_train = tfidf.fit_transform(x_train_tf['review'])\n",
        "x_test = tfidf.transform(x_test_tf['review'])"
      ],
      "metadata": {
        "execution": {
          "iopub.status.busy": "2023-08-15T16:23:34.706528Z",
          "iopub.execute_input": "2023-08-15T16:23:34.706975Z",
          "iopub.status.idle": "2023-08-15T16:23:34.713358Z",
          "shell.execute_reply.started": "2023-08-15T16:23:34.706933Z",
          "shell.execute_reply": "2023-08-15T16:23:34.712004Z"
        },
        "trusted": true,
        "id": "C03yLTAL4LT1"
      },
      "execution_count": null,
      "outputs": []
    },
    {
      "cell_type": "code",
      "source": [
        "x_train.shape,x_test.shape,x_train_tf.shape,x_test_tf.shape,y_train.shape"
      ],
      "metadata": {
        "execution": {
          "iopub.status.busy": "2023-08-15T16:29:04.214574Z",
          "iopub.execute_input": "2023-08-15T16:29:04.215047Z",
          "iopub.status.idle": "2023-08-15T16:29:04.225559Z",
          "shell.execute_reply.started": "2023-08-15T16:29:04.215014Z",
          "shell.execute_reply": "2023-08-15T16:29:04.224113Z"
        },
        "trusted": true,
        "id": "5n8YSxFn4LT1",
        "outputId": "13740d85-5465-4990-bf2c-5a852927f2fd"
      },
      "execution_count": null,
      "outputs": [
        {
          "execution_count": 68,
          "output_type": "execute_result",
          "data": {
            "text/plain": "((146482, 3533056), (16276, 3533056), (146482, 1), (16276, 1), (146482,))"
          },
          "metadata": {}
        }
      ]
    },
    {
      "cell_type": "code",
      "source": [
        "def valuate(mod):\n",
        "    from sklearn.metrics import f1_score\n",
        "    mod.fit(x_train,y_train)\n",
        "    y_test_pred=mod.predict(x_test)\n",
        "    y_train_pred=mod.predict(x_train)\n",
        "    print(\"Accuracy in train:\",accuracy_score(y_train,y_train_pred))\n",
        "    print(\"Accuracy in test:\",accuracy_score( y_test,y_test_pred))\n",
        "    print(\"F1 in train:\",f1_score(y_train,y_train_pred))\n",
        "    print(\"F1 score in test:\",f1_score(y_test,y_test_pred))\n",
        "    cm=ConfusionMatrixDisplay.from_predictions(y_train,y_train_pred,values_format='.5g')\n",
        "    cm=ConfusionMatrixDisplay.from_predictions(y_test,y_test_pred,values_format='.5g')\n",
        "    print(plt.show())\n"
      ],
      "metadata": {
        "execution": {
          "iopub.status.busy": "2023-08-15T16:29:08.426279Z",
          "iopub.execute_input": "2023-08-15T16:29:08.426684Z",
          "iopub.status.idle": "2023-08-15T16:29:08.43581Z",
          "shell.execute_reply.started": "2023-08-15T16:29:08.426655Z",
          "shell.execute_reply": "2023-08-15T16:29:08.434243Z"
        },
        "trusted": true,
        "id": "T-BXw8P84LT2"
      },
      "execution_count": null,
      "outputs": []
    },
    {
      "cell_type": "code",
      "source": [
        "def sm_valuate(mod,val):\n",
        "    from sklearn.metrics import f1_score\n",
        "    from sklearn.decomposition import TruncatedSVD\n",
        "    pipe = Pipeline([('tsvd', TruncatedSVD(n_components=200)),\n",
        "                      ('smt', SMOTE(sampling_strategy=val))])\n",
        "    X, y = pipe.fit_resample(x_train, y_train)\n",
        "    mod.fit(X, y)\n",
        "    y_test_pred=mod.predict(x_train)\n",
        "    y_train_pred=mod.predict(X)\n",
        "    print(\"Accuracy in train:\",accuracy_score(y,y_train_pred))\n",
        "    print(\"Accuracy in test:\",accuracy_score( y_test,y_test_pred))\n",
        "    print(\"F1 in train:\",f1_score(y,y_train_pred))\n",
        "    print(\"F1 score in test:\",f1_score(y_test,y_test_pred))\n",
        "    cm=ConfusionMatrixDisplay.from_predictions(y,y_train_pred,values_format='.5g')\n",
        "    cm=ConfusionMatrixDisplay.from_predictions(y_test,y_test_pred,values_format='.5g')\n",
        "    print(plt.show())\n"
      ],
      "metadata": {
        "execution": {
          "iopub.status.busy": "2023-08-15T16:29:11.406971Z",
          "iopub.execute_input": "2023-08-15T16:29:11.407487Z",
          "iopub.status.idle": "2023-08-15T16:29:11.419538Z",
          "shell.execute_reply.started": "2023-08-15T16:29:11.407451Z",
          "shell.execute_reply": "2023-08-15T16:29:11.418011Z"
        },
        "trusted": true,
        "id": "A1uxoWuq4LT2"
      },
      "execution_count": null,
      "outputs": []
    },
    {
      "cell_type": "markdown",
      "source": [
        "\n",
        "\n",
        "**Linear SVC Model**"
      ],
      "metadata": {
        "id": "AuRy9jN64LT2"
      }
    },
    {
      "cell_type": "code",
      "source": [
        "from sklearn.svm import LinearSVC\n",
        "svc=LinearSVC(loss='squared_hinge', max_iter=10000, penalty='l2', tol=1e-2)\n",
        "\n",
        "\n",
        "valuate(svc)\n",
        "'''\n",
        "loss='squared_hinge',tol=1e-2,C=0.5,penalty='l2'\n",
        "dist = dict(penalty=['l2', 'l1'],\n",
        "                     loss=['hinge','squared_hinge'],\n",
        "                    tol=[1e-2, 1e-4],\n",
        "                     max_iter=[10000,50000])\n",
        "clf = GridSearchCV(svc,dist,cv=5)\n",
        "\n",
        "Accuracy in train: 0.9963203670075504\n",
        "Accuracy in test: 0.814450724993856\n",
        "F1 in train: 0.997248806880535\n",
        "F1 score in test: 0.8630509704335207'''"
      ],
      "metadata": {
        "execution": {
          "iopub.status.busy": "2023-08-15T16:29:53.997692Z",
          "iopub.execute_input": "2023-08-15T16:29:53.998795Z",
          "iopub.status.idle": "2023-08-15T16:29:59.975571Z",
          "shell.execute_reply.started": "2023-08-15T16:29:53.998741Z",
          "shell.execute_reply": "2023-08-15T16:29:59.974089Z"
        },
        "trusted": true,
        "id": "WhKLoKAe4LT3",
        "outputId": "b6710700-4509-47a4-da8f-d62c40d600e7"
      },
      "execution_count": null,
      "outputs": [
        {
          "name": "stdout",
          "text": "Accuracy in train: 0.9792397700741388\nAccuracy in test: 0.829687884000983\nF1 in train: 0.9845575726799543\nF1 score in test: 0.8768875466335051\n",
          "output_type": "stream"
        },
        {
          "output_type": "display_data",
          "data": {
            "text/plain": "<Figure size 640x480 with 2 Axes>",
            "image/png": "[encoded data removed]"
          },
          "metadata": {}
        },
        {
          "output_type": "display_data",
          "data": {
            "text/plain": "<Figure size 640x480 with 2 Axes>",
            "image/png": "[encoded data removed]"
          },
          "metadata": {}
        },
        {
          "name": "stdout",
          "text": "None\n",
          "output_type": "stream"
        },
        {
          "execution_count": 71,
          "output_type": "execute_result",
          "data": {
            "text/plain": "'Accuracy in train: 0.9963203670075504\\nAccuracy in test: 0.814450724993856\\nF1 in train: 0.997248806880535\\nF1 score in test: 0.8630509704335207'"
          },
          "metadata": {}
        }
      ]
    },
    {
      "cell_type": "markdown",
      "source": [
        "Best_params for SVC{'loss': 'squared_hinge', 'max_iter': 10000, 'penalty': 'l2', 'tol': 0.0001}"
      ],
      "metadata": {
        "id": "SCoEFlre4LT3"
      }
    },
    {
      "cell_type": "markdown",
      "source": [
        "**LOGISTIC REGRESSION**"
      ],
      "metadata": {
        "id": "H4UU6P6Z4LT4"
      }
    },
    {
      "cell_type": "code",
      "source": [
        "'''lr=LogisticRegression(max_iter=100000,tol=1e-2,solver='saga',penalty='l1',C=6)\n",
        "sm_valuate(lr,0.8)'''"
      ],
      "metadata": {
        "execution": {
          "iopub.status.busy": "2023-08-15T10:01:28.735965Z",
          "iopub.status.idle": "2023-08-15T10:01:28.73631Z",
          "shell.execute_reply.started": "2023-08-15T10:01:28.736141Z",
          "shell.execute_reply": "2023-08-15T10:01:28.736157Z"
        },
        "trusted": true,
        "id": "t8c2UtM54LT4"
      },
      "execution_count": null,
      "outputs": []
    },
    {
      "cell_type": "markdown",
      "source": [
        "best params for Logistic Rrgression-{'C': 5.995038359600782, 'penalty': 'l1', 'solver': 'saga', 'tol': 0.01}"
      ],
      "metadata": {
        "id": "idY1i6wQ4LT4"
      }
    },
    {
      "cell_type": "code",
      "source": [
        "'''from sklearn.ensemble import RandomForestClassifier\n",
        "rfc=RandomForestClassifier(max_depth=100, random_state=0)\n",
        "sm_valuate(rfc,0.6)\n",
        "Accuracy in train: 0.9999233677327066\n",
        "Accuracy in test: 0.6880683214549029\n",
        "F1 in train: 0.9999386929333388\n",
        "F1 score in test: 0.8008160382910274'''\n"
      ],
      "metadata": {
        "execution": {
          "iopub.status.busy": "2023-08-15T10:01:28.737563Z",
          "iopub.status.idle": "2023-08-15T10:01:28.73796Z",
          "shell.execute_reply.started": "2023-08-15T10:01:28.737794Z",
          "shell.execute_reply": "2023-08-15T10:01:28.737811Z"
        },
        "trusted": true,
        "id": "LKOuj4zo4LT5"
      },
      "execution_count": null,
      "outputs": []
    },
    {
      "cell_type": "markdown",
      "source": [
        "**NAIVE BAYES**"
      ],
      "metadata": {
        "id": "olN3Fw4L4LT5"
      }
    },
    {
      "cell_type": "code",
      "source": [
        "from sklearn.naive_bayes import MultinomialNB\n",
        "gnb=MultinomialNB()\n",
        "valuate(gnb)"
      ],
      "metadata": {
        "execution": {
          "iopub.status.busy": "2023-08-15T16:30:40.222419Z",
          "iopub.execute_input": "2023-08-15T16:30:40.222894Z",
          "iopub.status.idle": "2023-08-15T16:30:41.742204Z",
          "shell.execute_reply.started": "2023-08-15T16:30:40.22286Z",
          "shell.execute_reply": "2023-08-15T16:30:41.74064Z"
        },
        "trusted": true,
        "id": "W4cY9Vjg4LT5",
        "outputId": "468cf9b0-38ad-4006-be7b-9361e8e420fb"
      },
      "execution_count": null,
      "outputs": [
        {
          "name": "stdout",
          "text": "Accuracy in train: 0.7091929383815077\nAccuracy in test: 0.6865937576800196\nF1 in train: 0.8210769489247312\nF1 score in test: 0.8096854829683244\n",
          "output_type": "stream"
        },
        {
          "output_type": "display_data",
          "data": {
            "text/plain": "<Figure size 640x480 with 2 Axes>",
            "image/png": "[encoded data removed]"
          },
          "metadata": {}
        },
        {
          "output_type": "display_data",
          "data": {
            "text/plain": "<Figure size 640x480 with 2 Axes>",
            "image/png": "[encoded data removed]"
          },
          "metadata": {}
        },
        {
          "name": "stdout",
          "text": "None\n",
          "output_type": "stream"
        }
      ]
    },
    {
      "cell_type": "code",
      "source": [
        "'''from lightgbm import LGBMClassifier\n",
        "lgb=LGBMClassifier(max_bin=255, n_estimators=100)\n",
        "sm_valuate(lgb,0.6) '''"
      ],
      "metadata": {
        "execution": {
          "iopub.status.busy": "2023-08-15T10:01:28.74204Z",
          "iopub.status.idle": "2023-08-15T10:01:28.742381Z",
          "shell.execute_reply.started": "2023-08-15T10:01:28.742211Z",
          "shell.execute_reply": "2023-08-15T10:01:28.742227Z"
        },
        "trusted": true,
        "id": "-zdJEVed4LT6"
      },
      "execution_count": null,
      "outputs": []
    },
    {
      "cell_type": "markdown",
      "source": [
        "**BAGGING CLASSIFIER**"
      ],
      "metadata": {
        "id": "tUprFa4U4LT6"
      }
    },
    {
      "cell_type": "code",
      "source": [
        "'''from sklearn.ensemble import BaggingClassifier\n",
        "bgc=BaggingClassifier( estimator=svc ,n_estimators=20, random_state=0)\n",
        "valuate(bgc)\n",
        "Accuracy in train: 0.9867219180513647\n",
        "Accuracy in test: 0.8304251658884246\n",
        "F1 in train: 0.9900832598287896\n",
        "F1 score in test: 0.876377317925289'''"
      ],
      "metadata": {
        "execution": {
          "iopub.status.busy": "2023-08-15T10:01:28.743493Z",
          "iopub.status.idle": "2023-08-15T10:01:28.744196Z",
          "shell.execute_reply.started": "2023-08-15T10:01:28.744011Z",
          "shell.execute_reply": "2023-08-15T10:01:28.744036Z"
        },
        "trusted": true,
        "id": "wVklnFta4LT7"
      },
      "execution_count": null,
      "outputs": []
    },
    {
      "cell_type": "markdown",
      "source": [
        "**SGDCLASSIFIER**"
      ],
      "metadata": {
        "id": "f2dhcmHM4LT7"
      }
    },
    {
      "cell_type": "code",
      "source": [
        "'''from sklearn.linear_model import SGDClassifier\n",
        "sgd=SGDClassifier(max_iter=1000, tol=1e-2)\n",
        "valuate(sgd)'''\n",
        "\n"
      ],
      "metadata": {
        "execution": {
          "iopub.status.busy": "2023-08-18T10:55:43.865415Z",
          "iopub.execute_input": "2023-08-18T10:55:43.865843Z",
          "iopub.status.idle": "2023-08-18T10:55:43.911879Z",
          "shell.execute_reply.started": "2023-08-18T10:55:43.865812Z",
          "shell.execute_reply": "2023-08-18T10:55:43.910755Z"
        },
        "trusted": true,
        "id": "uhtiScDY4LT8",
        "outputId": "823a19ed-522c-4d31-a392-1433899ac83b"
      },
      "execution_count": null,
      "outputs": [
        {
          "execution_count": 1,
          "output_type": "execute_result",
          "data": {
            "text/plain": "'from sklearn.linear_model import SGDClassifier\\nsgd=SGDClassifier(max_iter=1000, tol=1e-2)\\nvaluate(sgd)'"
          },
          "metadata": {}
        }
      ]
    },
    {
      "cell_type": "code",
      "source": [
        "# DUMMY CLASSIFIER\n",
        "from sklearn.dummy import DummyClassifier\n",
        "from sklearn.metrics import accuracy_score\n",
        "dummy_clf = DummyClassifier(strategy=\"most_frequent\")\n",
        "dummy_clf.fit(x_train, y_train)\n",
        "\n",
        "print(dummy_clf.score(X,y))\n",
        "res=dummy_clf.predict(x_test)\n",
        "cm=ConfusionMatrixDisplay.from_predictions(y_test,res,values_format='.5g')\n",
        "plt.show()\n",
        "acc=accuracy_score(y_test,res)\n",
        "acc"
      ],
      "metadata": {
        "execution": {
          "iopub.status.busy": "2023-08-15T10:01:28.747509Z",
          "iopub.status.idle": "2023-08-15T10:01:28.748194Z",
          "shell.execute_reply.started": "2023-08-15T10:01:28.748001Z",
          "shell.execute_reply": "2023-08-15T10:01:28.748021Z"
        },
        "trusted": true,
        "id": "8gkCjfd14LT8"
      },
      "execution_count": null,
      "outputs": []
    },
    {
      "cell_type": "code",
      "source": [
        "df_test.rename(columns = {'isTopCritic':'isFrequentReviewer'}, inplace = True)"
      ],
      "metadata": {
        "execution": {
          "iopub.status.busy": "2023-08-15T16:33:05.192194Z",
          "iopub.execute_input": "2023-08-15T16:33:05.192641Z",
          "iopub.status.idle": "2023-08-15T16:33:05.200578Z",
          "shell.execute_reply.started": "2023-08-15T16:33:05.192611Z",
          "shell.execute_reply": "2023-08-15T16:33:05.199024Z"
        },
        "trusted": true,
        "id": "1CfKLnWT4LT8"
      },
      "execution_count": null,
      "outputs": []
    },
    {
      "cell_type": "code",
      "source": [
        "X_test= df_test.drop([ 'movieid','releaseDateTheaters','ratingContents','rating',\n",
        "            'releaseDateStreaming', 'runtimeMinutes','originalLanguage',\n",
        "       'soundType','title', 'audienceScore','boxOffice'], axis=1)"
      ],
      "metadata": {
        "execution": {
          "iopub.status.busy": "2023-08-15T16:33:52.497292Z",
          "iopub.execute_input": "2023-08-15T16:33:52.497713Z",
          "iopub.status.idle": "2023-08-15T16:33:52.510806Z",
          "shell.execute_reply.started": "2023-08-15T16:33:52.497682Z",
          "shell.execute_reply": "2023-08-15T16:33:52.509484Z"
        },
        "trusted": true,
        "id": "-1walPiY4LT9"
      },
      "execution_count": null,
      "outputs": []
    },
    {
      "cell_type": "code",
      "source": [
        "x_test=pd.DataFrame(pipe.fit_transform(X_test),columns=[\"review\"])"
      ],
      "metadata": {
        "execution": {
          "iopub.status.busy": "2023-08-15T16:35:30.876068Z",
          "iopub.execute_input": "2023-08-15T16:35:30.876563Z",
          "iopub.status.idle": "2023-08-15T16:35:37.413329Z",
          "shell.execute_reply.started": "2023-08-15T16:35:30.87653Z",
          "shell.execute_reply": "2023-08-15T16:35:37.411968Z"
        },
        "trusted": true,
        "id": "dKdng0Ny4LUF"
      },
      "execution_count": null,
      "outputs": []
    },
    {
      "cell_type": "code",
      "source": [
        "X_test_vec=tfidf.transform(x_test['review'])"
      ],
      "metadata": {
        "execution": {
          "iopub.status.busy": "2023-08-15T16:35:59.158621Z",
          "iopub.execute_input": "2023-08-15T16:35:59.159031Z",
          "iopub.status.idle": "2023-08-15T16:36:07.320473Z",
          "shell.execute_reply.started": "2023-08-15T16:35:59.159002Z",
          "shell.execute_reply": "2023-08-15T16:36:07.319566Z"
        },
        "trusted": true,
        "id": "WfcCxmK_4LUF"
      },
      "execution_count": null,
      "outputs": []
    },
    {
      "cell_type": "code",
      "source": [
        "X_test_vec.shape"
      ],
      "metadata": {
        "execution": {
          "iopub.status.busy": "2023-08-15T16:36:10.406581Z",
          "iopub.execute_input": "2023-08-15T16:36:10.407824Z",
          "iopub.status.idle": "2023-08-15T16:36:10.415941Z",
          "shell.execute_reply.started": "2023-08-15T16:36:10.407785Z",
          "shell.execute_reply": "2023-08-15T16:36:10.414619Z"
        },
        "trusted": true,
        "id": "BB3fvFAu4LUF",
        "outputId": "8e54fe23-67fb-4de8-8d55-1569a53e2ae5"
      },
      "execution_count": null,
      "outputs": [
        {
          "execution_count": 79,
          "output_type": "execute_result",
          "data": {
            "text/plain": "(55315, 3533056)"
          },
          "metadata": {}
        }
      ]
    },
    {
      "cell_type": "code",
      "source": [
        "test_pred=svc.predict(X_test_vec)\n",
        "type(test_pred)"
      ],
      "metadata": {
        "execution": {
          "iopub.status.busy": "2023-08-15T16:36:16.038511Z",
          "iopub.execute_input": "2023-08-15T16:36:16.039019Z",
          "iopub.status.idle": "2023-08-15T16:36:16.087726Z",
          "shell.execute_reply.started": "2023-08-15T16:36:16.038983Z",
          "shell.execute_reply": "2023-08-15T16:36:16.086238Z"
        },
        "trusted": true,
        "id": "kb2d31H64LUG",
        "outputId": "2707dee2-5167-4b79-ee38-f976278110a7"
      },
      "execution_count": null,
      "outputs": [
        {
          "execution_count": 80,
          "output_type": "execute_result",
          "data": {
            "text/plain": "numpy.ndarray"
          },
          "metadata": {}
        }
      ]
    },
    {
      "cell_type": "code",
      "source": [
        "submission=pd.DataFrame(columns=['id','sentiment'])\n",
        "submission['id']=[i for i in range(len(test_pred))]\n",
        "submission['sentiment']=test_pred"
      ],
      "metadata": {
        "execution": {
          "iopub.status.busy": "2023-08-15T16:36:28.509418Z",
          "iopub.execute_input": "2023-08-15T16:36:28.511013Z",
          "iopub.status.idle": "2023-08-15T16:36:28.598017Z",
          "shell.execute_reply.started": "2023-08-15T16:36:28.510947Z",
          "shell.execute_reply": "2023-08-15T16:36:28.596362Z"
        },
        "trusted": true,
        "id": "XMOW-plz4LUG"
      },
      "execution_count": null,
      "outputs": []
    },
    {
      "cell_type": "code",
      "source": [
        "submission.loc[submission[\"sentiment\"] == 1, \"sentiment\"] = \"POSITIVE\"\n",
        "submission.loc[submission[\"sentiment\"] == 0, \"sentiment\"] = \"NEGATIVE\""
      ],
      "metadata": {
        "execution": {
          "iopub.status.busy": "2023-08-15T16:36:32.322291Z",
          "iopub.execute_input": "2023-08-15T16:36:32.322721Z",
          "iopub.status.idle": "2023-08-15T16:36:32.346774Z",
          "shell.execute_reply.started": "2023-08-15T16:36:32.32269Z",
          "shell.execute_reply": "2023-08-15T16:36:32.345295Z"
        },
        "trusted": true,
        "id": "GySYD3T04LUH"
      },
      "execution_count": null,
      "outputs": []
    },
    {
      "cell_type": "code",
      "source": [
        "np. count_nonzero(submission=='NEGATIVE'),np. count_nonzero(submission=='POSITIVE')\n",
        "#(16547, 38768),(15121, 40194),(15079, 40236), (17779, 37536)"
      ],
      "metadata": {
        "execution": {
          "iopub.status.busy": "2023-08-15T16:36:37.596387Z",
          "iopub.execute_input": "2023-08-15T16:36:37.597814Z",
          "iopub.status.idle": "2023-08-15T16:36:37.62955Z",
          "shell.execute_reply.started": "2023-08-15T16:36:37.597727Z",
          "shell.execute_reply": "2023-08-15T16:36:37.627971Z"
        },
        "trusted": true,
        "id": "WmCr6Vj-4LUH",
        "outputId": "d2936635-5fc3-41a5-abae-63333f9cd844"
      },
      "execution_count": null,
      "outputs": [
        {
          "execution_count": 85,
          "output_type": "execute_result",
          "data": {
            "text/plain": "(16246, 39069)"
          },
          "metadata": {}
        }
      ]
    },
    {
      "cell_type": "code",
      "source": [
        "submission.isnull().sum(),submission.shape"
      ],
      "metadata": {
        "execution": {
          "iopub.status.busy": "2023-08-15T16:36:43.799949Z",
          "iopub.execute_input": "2023-08-15T16:36:43.80039Z",
          "iopub.status.idle": "2023-08-15T16:36:43.831343Z",
          "shell.execute_reply.started": "2023-08-15T16:36:43.800358Z",
          "shell.execute_reply": "2023-08-15T16:36:43.829806Z"
        },
        "trusted": true,
        "id": "uUDS-7Wn4LUH",
        "outputId": "1cb13b70-e869-43db-d32b-11aeebabb4ff"
      },
      "execution_count": null,
      "outputs": [
        {
          "execution_count": 86,
          "output_type": "execute_result",
          "data": {
            "text/plain": "(id           0\n sentiment    0\n dtype: int64,\n (55315, 2))"
          },
          "metadata": {}
        }
      ]
    },
    {
      "cell_type": "code",
      "source": [
        "submission.to_csv('submission.csv',index=False)"
      ],
      "metadata": {
        "execution": {
          "iopub.status.busy": "2023-08-15T16:36:54.431497Z",
          "iopub.execute_input": "2023-08-15T16:36:54.43264Z",
          "iopub.status.idle": "2023-08-15T16:36:54.594145Z",
          "shell.execute_reply.started": "2023-08-15T16:36:54.4326Z",
          "shell.execute_reply": "2023-08-15T16:36:54.592818Z"
        },
        "trusted": true,
        "id": "LgR06mmk4LUI"
      },
      "execution_count": null,
      "outputs": []
    },
    {
      "cell_type": "code",
      "source": [
        "submission.head()"
      ],
      "metadata": {
        "execution": {
          "iopub.status.busy": "2023-08-15T16:36:58.173002Z",
          "iopub.execute_input": "2023-08-15T16:36:58.174598Z",
          "iopub.status.idle": "2023-08-15T16:36:58.188315Z",
          "shell.execute_reply.started": "2023-08-15T16:36:58.174546Z",
          "shell.execute_reply": "2023-08-15T16:36:58.187319Z"
        },
        "trusted": true,
        "id": "88_Zi31T4LUI",
        "outputId": "22664573-84f5-487b-c03a-f25963cea2af"
      },
      "execution_count": null,
      "outputs": [
        {
          "execution_count": 88,
          "output_type": "execute_result",
          "data": {
            "text/plain": "   id sentiment\n0   0  POSITIVE\n1   1  POSITIVE\n2   2  POSITIVE\n3   3  POSITIVE\n4   4  POSITIVE",
            "text/html": "<div>\n<style scoped>\n    .dataframe tbody tr th:only-of-type {\n        vertical-align: middle;\n    }\n\n    .dataframe tbody tr th {\n        vertical-align: top;\n    }\n\n    .dataframe thead th {\n        text-align: right;\n    }\n</style>\n<table border=\"1\" class=\"dataframe\">\n  <thead>\n    <tr style=\"text-align: right;\">\n      <th></th>\n      <th>id</th>\n      <th>sentiment</th>\n    </tr>\n  </thead>\n  <tbody>\n    <tr>\n      <th>0</th>\n      <td>0</td>\n      <td>POSITIVE</td>\n    </tr>\n    <tr>\n      <th>1</th>\n      <td>1</td>\n      <td>POSITIVE</td>\n    </tr>\n    <tr>\n      <th>2</th>\n      <td>2</td>\n      <td>POSITIVE</td>\n    </tr>\n    <tr>\n      <th>3</th>\n      <td>3</td>\n      <td>POSITIVE</td>\n    </tr>\n    <tr>\n      <th>4</th>\n      <td>4</td>\n      <td>POSITIVE</td>\n    </tr>\n  </tbody>\n</table>\n</div>"
          },
          "metadata": {}
        }
      ]
    }
  ]
}